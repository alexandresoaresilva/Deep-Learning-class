{
 "cells": [
  {
   "cell_type": "code",
   "execution_count": 1,
   "metadata": {},
   "outputs": [],
   "source": [
    "from __future__ import absolute_import\n",
    "from __future__ import division\n",
    "from __future__ import print_function\n",
    "\n",
    "import numpy as np\n",
    "from numpy import zeros, ones, eye\n",
    "import matplotlib.pyplot as plt\n",
    "import tensorflow as tf"
   ]
  },
  {
   "cell_type": "code",
   "execution_count": 2,
   "metadata": {},
   "outputs": [
    {
     "name": "stdout",
     "output_type": "stream",
     "text": [
      "Tensor(\"Const:0\", shape=(4, 2), dtype=float32)\n",
      "Tensor(\"Const_1:0\", shape=(4, 1), dtype=float32)\n",
      "Tensor(\"add:0\", shape=(4, 2), dtype=float32)\n"
     ]
    }
   ],
   "source": [
    "INPUTS = tf.constant([[0,0],[0,1],[1,0],[1,1]], dtype=tf.float32)\n",
    "AND = tf.constant([[0],[0],[0],[1]], dtype=tf.float32) # also tf.float32 implicitly\n",
    "OR = tf.constant([[0],[1],[1],[1]], dtype=tf.float32) # also tf.float32 implicitly\n",
    "NOR = tf.constant([[1],[0],[0],[0]], dtype=tf.float32) # also tf.float32 implicitly\n",
    "NAND = tf.constant([[1],[1],[1],[0]], dtype=tf.float32) # also tf.float32 implicitly\n",
    "XOR = tf.constant([[0],[1],[1],[0]], dtype=tf.float32) # also tf.float32 implicitly\n",
    "total = INPUTS + AND\n",
    "print(INPUTS)\n",
    "print(AND)\n",
    "print(total)"
   ]
  },
  {
   "cell_type": "code",
   "execution_count": 3,
   "metadata": {},
   "outputs": [],
   "source": [
    "writer = tf.summary.FileWriter('.')\n",
    "writer.add_graph(tf.get_default_graph())\n",
    "writer.flush()\n",
    "# run on the terminal: \n",
    "# tensorboard --logdir ."
   ]
  },
  {
   "cell_type": "code",
   "execution_count": 4,
   "metadata": {
    "scrolled": true
   },
   "outputs": [
    {
     "name": "stdout",
     "output_type": "stream",
     "text": [
      "[[0. 0.]\n",
      " [0. 1.]\n",
      " [1. 0.]\n",
      " [2. 2.]]\n",
      "{'AND OR': (array([[0.],\n",
      "       [0.],\n",
      "       [0.],\n",
      "       [1.]], dtype=float32), array([[0.],\n",
      "       [1.],\n",
      "       [1.],\n",
      "       [1.]], dtype=float32)), 'total': array([[0., 0.],\n",
      "       [0., 1.],\n",
      "       [1., 0.],\n",
      "       [2., 2.]], dtype=float32)}\n"
     ]
    }
   ],
   "source": [
    "sess = tf.Session()\n",
    "print(sess.run(total))\n",
    "print(sess.run({'AND OR':(AND, OR), 'total':total}))"
   ]
  },
  {
   "cell_type": "code",
   "execution_count": 5,
   "metadata": {},
   "outputs": [
    {
     "name": "stdout",
     "output_type": "stream",
     "text": [
      "[0.6186204  0.2458607  0.23565328]\n",
      "[0.44860828 0.7266027  0.4381081 ]\n",
      "(array([1.9813027, 1.5082669, 1.894467 ], dtype=float32), array([2.9813027, 2.508267 , 2.8944669], dtype=float32))\n"
     ]
    }
   ],
   "source": [
    "vec = tf.random_uniform(shape=(3,))\n",
    "out1 = vec + 1\n",
    "out2 = vec + 2\n",
    "print(sess.run(vec))\n",
    "print(sess.run(vec))\n",
    "print(sess.run((out1, out2)))"
   ]
  },
  {
   "cell_type": "code",
   "execution_count": 6,
   "metadata": {},
   "outputs": [
    {
     "name": "stdout",
     "output_type": "stream",
     "text": [
      "7.5\n",
      "[3. 7.]\n"
     ]
    }
   ],
   "source": [
    "x = tf.placeholder(tf.float32)\n",
    "y = tf.placeholder(tf.float32)\n",
    "z = x + y\n",
    "print(sess.run(z, feed_dict={x: 3, y: 4.5}))\n",
    "print(sess.run(z, feed_dict={x: [1, 3], y: [2, 4]}))"
   ]
  },
  {
   "cell_type": "code",
   "execution_count": 7,
   "metadata": {},
   "outputs": [
    {
     "name": "stdout",
     "output_type": "stream",
     "text": [
      "[0 1]\n",
      "[2 3]\n",
      "[4 5]\n",
      "[6 7]\n"
     ]
    }
   ],
   "source": [
    "my_data = [\n",
    "    [0, 1,],\n",
    "    [2, 3,],\n",
    "    [4, 5,],\n",
    "    [6, 7,],\n",
    "]\n",
    "slices = tf.data.Dataset.from_tensor_slices(my_data)\n",
    "next_item = slices.make_one_shot_iterator().get_next()\n",
    "while True:\n",
    "  try:\n",
    "    print(sess.run(next_item))\n",
    "  except tf.errors.OutOfRangeError:\n",
    "    break"
   ]
  },
  {
   "cell_type": "code",
   "execution_count": 8,
   "metadata": {},
   "outputs": [
    {
     "name": "stdout",
     "output_type": "stream",
     "text": [
      "[-0.8896692  -0.43412945 -0.05812366]\n",
      "[-0.1529216 -1.3058649  0.3406277]\n",
      "[-0.40093288 -0.34547585  0.8754536 ]\n",
      "[ 2.4547946  -0.46823183 -1.7718049 ]\n",
      "[ 0.3701294 -0.0816192 -0.7042009]\n",
      "[-1.489407  -0.4289316 -1.1567382]\n",
      "[ 0.02157262 -0.02696867 -0.06085118]\n",
      "[-0.6720922   0.77427006 -0.23870328]\n",
      "[-0.18209247 -1.0650271  -0.11241425]\n",
      "[-1.0220007 -2.0159743 -1.3983421]\n"
     ]
    }
   ],
   "source": [
    "r = tf.random_normal([10,3])\n",
    "dataset = tf.data.Dataset.from_tensor_slices(r)\n",
    "iterator = dataset.make_initializable_iterator()\n",
    "next_row = iterator.get_next()\n",
    "\n",
    "sess.run(iterator.initializer)\n",
    "while True:\n",
    "  try:\n",
    "    print(sess.run(next_row))\n",
    "  except tf.errors.OutOfRangeError:\n",
    "    break"
   ]
  },
  {
   "cell_type": "code",
   "execution_count": 10,
   "metadata": {},
   "outputs": [
    {
     "name": "stdout",
     "output_type": "stream",
     "text": [
      "[[2.9877925]\n",
      " [7.5702257]]\n"
     ]
    }
   ],
   "source": [
    "x = tf.placeholder(tf.float32, shape=[None, 3])\n",
    "linear_model = tf.layers.Dense(units=1)\n",
    "y = linear_model(x)\n",
    "\n",
    "init = tf.global_variables_initializer()\n",
    "sess.run(init)\n",
    "print(sess.run(y, {x: [[1, 2, 3],[4, 5, 6]]}))"
   ]
  },
  {
   "cell_type": "code",
   "execution_count": 11,
   "metadata": {},
   "outputs": [
    {
     "name": "stdout",
     "output_type": "stream",
     "text": [
      "[[ 4.904642]\n",
      " [12.697994]]\n"
     ]
    }
   ],
   "source": [
    "x = tf.placeholder(tf.float32, shape=[None, 3])\n",
    "y = tf.layers.dense(x, units=1)\n",
    "\n",
    "init = tf.global_variables_initializer()\n",
    "sess.run(init)\n",
    "\n",
    "print(sess.run(y, {x: [[1, 2, 3], [4, 5, 6]]}))"
   ]
  },
  {
   "cell_type": "code",
   "execution_count": 12,
   "metadata": {},
   "outputs": [],
   "source": [
    "features = {\n",
    "    'sales' : [[5], [10], [8], [9]],\n",
    "    'department': ['sports', 'sports', 'gardening', 'gardening']}\n",
    "\n",
    "department_column = tf.feature_column.categorical_column_with_vocabulary_list(\n",
    "        'department', ['sports', 'gardening'])\n",
    "department_column = tf.feature_column.indicator_column(department_column)\n",
    "\n",
    "columns = [\n",
    "    tf.feature_column.numeric_column('sales'),\n",
    "    department_column\n",
    "]\n",
    "\n",
    "inputs = tf.feature_column.input_layer(features, columns)"
   ]
  },
  {
   "cell_type": "code",
   "execution_count": 13,
   "metadata": {},
   "outputs": [
    {
     "data": {
      "text/plain": [
       "(None, None)"
      ]
     },
     "execution_count": 13,
     "metadata": {},
     "output_type": "execute_result"
    }
   ],
   "source": [
    "var_init = tf.global_variables_initializer()\n",
    "table_init = tf.tables_initializer()\n",
    "sess = tf.Session()\n",
    "sess.run((var_init, table_init))"
   ]
  },
  {
   "cell_type": "code",
   "execution_count": 14,
   "metadata": {},
   "outputs": [
    {
     "name": "stdout",
     "output_type": "stream",
     "text": [
      "[[ 1.  0.  5.]\n",
      " [ 1.  0. 10.]\n",
      " [ 0.  1.  8.]\n",
      " [ 0.  1.  9.]]\n"
     ]
    }
   ],
   "source": [
    "print(sess.run(inputs))"
   ]
  },
  {
   "cell_type": "code",
   "execution_count": 15,
   "metadata": {},
   "outputs": [],
   "source": [
    "x = tf.constant([[1], [2], [3], [4]], dtype=tf.float32)\n",
    "y_true = tf.constant([[0], [-1], [-2], [-3]], dtype=tf.float32)\n",
    "linear_model = tf.layers.Dense(units=1)\n",
    "\n",
    "y_pred = linear_model(x)"
   ]
  },
  {
   "cell_type": "code",
   "execution_count": 16,
   "metadata": {},
   "outputs": [
    {
     "name": "stdout",
     "output_type": "stream",
     "text": [
      "[[0.5616628]\n",
      " [1.1233256]\n",
      " [1.6849884]\n",
      " [2.2466512]]\n"
     ]
    }
   ],
   "source": [
    "sess = tf.Session()\n",
    "init = tf.global_variables_initializer()\n",
    "sess.run(init)\n",
    "\n",
    "print(sess.run(y_pred))"
   ]
  },
  {
   "cell_type": "code",
   "execution_count": 19,
   "metadata": {},
   "outputs": [
    {
     "name": "stdout",
     "output_type": "stream",
     "text": [
      "0.1664165\n",
      "0.1664165\n",
      "0.1654215\n",
      "0.1644325\n",
      "0.16344939\n",
      "0.16247211\n",
      "0.16150075\n",
      "0.16053516\n",
      "0.15957536\n",
      "0.15862128\n",
      "0.15767288\n",
      "0.15673019\n",
      "0.15579312\n",
      "0.15486166\n",
      "0.15393576\n",
      "0.15301542\n",
      "0.15210053\n",
      "0.15119116\n",
      "0.15028723\n",
      "0.14938869\n",
      "0.1484955\n",
      "0.14760767\n",
      "0.14672515\n",
      "0.1458479\n",
      "0.1449759\n",
      "0.14410909\n",
      "0.1432475\n",
      "0.14239107\n",
      "0.14153974\n",
      "0.14069349\n",
      "0.13985229\n",
      "0.13901615\n",
      "0.13818501\n",
      "0.1373588\n",
      "0.13653757\n",
      "0.1357212\n",
      "0.13490976\n",
      "0.13410313\n",
      "0.1333014\n",
      "0.13250436\n",
      "0.13171215\n",
      "0.13092467\n",
      "0.13014191\n",
      "0.1293638\n",
      "0.12859036\n",
      "0.1278215\n",
      "0.1270573\n",
      "0.12629765\n",
      "0.12554255\n",
      "0.124791935\n",
      "0.124045834\n",
      "0.12330416\n",
      "0.12256697\n",
      "0.12183416\n",
      "0.1211057\n",
      "0.12038163\n",
      "0.119661935\n",
      "0.118946485\n",
      "0.118235305\n",
      "0.11752841\n",
      "0.116825715\n",
      "0.116127215\n",
      "0.1154329\n",
      "0.11474277\n",
      "0.11405674\n",
      "0.11337481\n",
      "0.112696946\n",
      "0.11202314\n",
      "0.1113534\n",
      "0.110687606\n",
      "0.11002582\n",
      "0.109368\n",
      "0.10871412\n",
      "0.10806415\n",
      "0.10741807\n",
      "0.1067758\n",
      "0.10613741\n",
      "0.105502814\n",
      "0.10487205\n",
      "0.10424505\n",
      "0.1036218\n",
      "0.10300224\n",
      "0.10238638\n",
      "0.10177423\n",
      "0.10116576\n",
      "0.10056089\n",
      "0.09995965\n",
      "0.099362016\n",
      "0.09876795\n",
      "0.09817746\n",
      "0.09759043\n",
      "0.097006954\n",
      "0.09642699\n",
      "0.095850445\n",
      "0.09527737\n",
      "0.09470774\n",
      "0.0941415\n",
      "0.09357864\n",
      "0.093019165\n",
      "0.09246301\n",
      "0.0919102\n"
     ]
    }
   ],
   "source": [
    "loss = tf.losses.mean_squared_error(labels=y_true, predictions=y_pred)\n",
    "\n",
    "print(sess.run(loss))\n",
    "optimizer = tf.train.GradientDescentOptimizer(0.01)\n",
    "train = optimizer.minimize(loss)\n",
    "\n",
    "for i in range(100):\n",
    "  _, loss_value = sess.run((train, loss))\n",
    "  print(loss_value)"
   ]
  },
  {
   "cell_type": "code",
   "execution_count": 18,
   "metadata": {},
   "outputs": [
    {
     "name": "stdout",
     "output_type": "stream",
     "text": [
      "10.01302\n",
      "7.0388055\n",
      "4.9745173\n",
      "3.5416107\n",
      "2.54681\n",
      "1.856004\n",
      "1.3761375\n",
      "1.0426402\n",
      "0.810709\n",
      "0.64925516\n",
      "0.5367073\n",
      "0.45809716\n",
      "0.403039\n",
      "0.36432612\n",
      "0.33695775\n",
      "0.31746438\n",
      "0.30343807\n",
      "0.29320836\n",
      "0.28561604\n",
      "0.2798566\n",
      "0.27537194\n",
      "0.2717747\n",
      "0.26879618\n",
      "0.26624978\n",
      "0.26400623\n",
      "0.26197556\n",
      "0.2600955\n",
      "0.2583227\n",
      "0.25662714\n",
      "0.25498796\n",
      "0.2533907\n",
      "0.25182524\n",
      "0.25028458\n",
      "0.24876392\n",
      "0.24725966\n",
      "0.24576966\n",
      "0.24429211\n",
      "0.24282593\n",
      "0.24137019\n",
      "0.23992439\n",
      "0.23848805\n",
      "0.23706079\n",
      "0.23564254\n",
      "0.23423307\n",
      "0.2328322\n",
      "0.23143984\n",
      "0.2300559\n",
      "0.22868025\n",
      "0.22731291\n",
      "0.22595376\n",
      "0.22460277\n",
      "0.22325987\n",
      "0.22192502\n",
      "0.22059815\n",
      "0.21927923\n",
      "0.2179682\n",
      "0.21666497\n",
      "0.21536958\n",
      "0.21408188\n",
      "0.21280196\n",
      "0.2115296\n",
      "0.2102649\n",
      "0.20900774\n",
      "0.20775814\n",
      "0.20651597\n",
      "0.20528127\n",
      "0.20405392\n",
      "0.20283395\n",
      "0.20162125\n",
      "0.20041578\n",
      "0.19921751\n",
      "0.19802642\n",
      "0.19684243\n",
      "0.19566557\n",
      "0.19449571\n",
      "0.19333285\n",
      "0.19217695\n",
      "0.19102794\n",
      "0.18988582\n",
      "0.1887505\n",
      "0.18762204\n",
      "0.18650025\n",
      "0.1853852\n",
      "0.18427683\n",
      "0.18317504\n",
      "0.18207987\n",
      "0.18099122\n",
      "0.17990914\n",
      "0.17883348\n",
      "0.17776425\n",
      "0.17670141\n",
      "0.175645\n",
      "0.17459482\n",
      "0.17355096\n",
      "0.17251328\n",
      "0.17148188\n",
      "0.17045662\n",
      "0.16943747\n",
      "0.16842443\n",
      "0.16741748\n",
      "[[-0.6586999]\n",
      " [-1.3191853]\n",
      " [-1.9796705]\n",
      " [-2.6401558]]\n"
     ]
    }
   ],
   "source": [
    "x = tf.constant([[1], [2], [3], [4]], dtype=tf.float32)\n",
    "y_true = tf.constant([[0], [-1], [-2], [-3]], dtype=tf.float32)\n",
    "\n",
    "linear_model = tf.layers.Dense(units=1)\n",
    "\n",
    "y_pred = linear_model(x)\n",
    "loss = tf.losses.mean_squared_error(labels=y_true, predictions=y_pred)\n",
    "\n",
    "optimizer = tf.train.GradientDescentOptimizer(0.01)\n",
    "train = optimizer.minimize(loss)\n",
    "\n",
    "init = tf.global_variables_initializer()\n",
    "\n",
    "sess = tf.Session()\n",
    "sess.run(init)\n",
    "for i in range(100):\n",
    "  _, loss_value = sess.run((train, loss))\n",
    "  print(loss_value)\n",
    "\n",
    "print(sess.run(y_pred))"
   ]
  },
  {
   "cell_type": "code",
   "execution_count": null,
   "metadata": {},
   "outputs": [],
   "source": []
  }
 ],
 "metadata": {
  "kernelspec": {
   "display_name": "Python 3",
   "language": "python",
   "name": "python3"
  },
  "language_info": {
   "codemirror_mode": {
    "name": "ipython",
    "version": 3
   },
   "file_extension": ".py",
   "mimetype": "text/x-python",
   "name": "python",
   "nbconvert_exporter": "python",
   "pygments_lexer": "ipython3",
   "version": "3.6.8"
  }
 },
 "nbformat": 4,
 "nbformat_minor": 2
}
