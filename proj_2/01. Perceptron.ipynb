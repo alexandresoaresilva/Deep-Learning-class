{
 "cells": [
  {
   "cell_type": "code",
   "execution_count": 1,
   "metadata": {},
   "outputs": [],
   "source": [
    "import numpy as np\n",
    "from numpy import zeros, ones, eye\n",
    "import matplotlib.pyplot as plt\n",
    "import tensorflow as tf"
   ]
  },
  {
   "cell_type": "code",
   "execution_count": 2,
   "metadata": {},
   "outputs": [],
   "source": [
    "#logical inputs with biases in the last column\n",
    "X = tf.constant([[0,0,1],[0,1,1],[1,0,1],[1,1,1]], dtype=tf.float32)\n",
    "\n",
    "AND = tf.constant([[0],[0],[0],[1]], dtype=tf.float32) # also tf.float32 implicitly\n",
    "OR = tf.constant([[0],[1],[1],[1]], dtype=tf.float32) # also tf.float32 implicitly\n",
    "NOR = tf.constant([[1],[0],[0],[0]], dtype=tf.float32) # also tf.float32 implicitly\n",
    "NAND = tf.constant([[1],[1],[1],[0]], dtype=tf.float32) # also tf.float32 implicitly\n",
    "XOR = tf.constant([[0],[1],[1],[0]], dtype=tf.float32) # also tf.float32 implicitly\n",
    "RHO = tf.constant([[.0001],[.001],[.01],[.01],[.1],[1]])\n",
    "# squares = map_fn(lambda x: x * x, elems)\n",
    "# J = map_fn(lambda y, t: 1/2*np.mean((y-t)**2) )\n",
    "J = lambda y, t: 1/2*np.mean((y-t)**2)"
   ]
  },
  {
   "cell_type": "code",
   "execution_count": 3,
   "metadata": {},
   "outputs": [],
   "source": [
    "# sess.run(INPUTS)\n",
    "w = tf.placeholder(tf.float32)\n",
    "x = tf.placeholder(tf.float32)\n",
    "y_bar = x @ w #tensorflow operation\n",
    "\n",
    "w_k_plus_1 = 0\n",
    "sess = tf.Session()"
   ]
  },
  {
   "cell_type": "code",
   "execution_count": 4,
   "metadata": {},
   "outputs": [
    {
     "name": "stdout",
     "output_type": "stream",
     "text": [
      "[0. 0. 0. 0.]\n"
     ]
    }
   ],
   "source": [
    "# initializing w_k, w_k_plus_1\n",
    "w_k = np.array([0,0,0])\n",
    "# w_k_plus_1 = sess.run({w_k_plus_1: [[0],[0],[0]]})\n",
    "len(sess.run(RHO))\n",
    "\n",
    "print(sess.run(X) @ w_k)"
   ]
  },
  {
   "cell_type": "markdown",
   "metadata": {},
   "source": [
    "This next part is still broken (perceptron - too many for loops)"
   ]
  },
  {
   "cell_type": "code",
   "execution_count": 52,
   "metadata": {},
   "outputs": [],
   "source": [
    "epochs = np.array([1000,10_000])\n",
    "# for AND gate\n",
    "\n",
    "no_of_iterations_to_converge = []\n",
    "\n",
    "# for j in range(len(sess.run(RHO))):\n",
    "rho =  sess.run(RHO)[1]\n",
    "\n",
    "for i in range(epochs[1]):\n",
    "    for k in range(len(sess.run(X)[0])):\n",
    "        X_k  = sess.run(X)[k,:]\n",
    "        y_b = X_k *w_k\n",
    "        y_k =  sess.run(NOR)[k,:]\n",
    "        \n",
    "        w_k_plus_1 = w_k  + rho*(y_k - y_b) * X_k\n",
    "        \n",
    "        w_k = w_k_plus_1\n",
    "    no_of_iterations_to_converge.append(i)"
   ]
  },
  {
   "cell_type": "code",
   "execution_count": 50,
   "metadata": {},
   "outputs": [
    {
     "data": {
      "text/plain": [
       "array([1.        , 1.        , 0.66700011])"
      ]
     },
     "execution_count": 50,
     "metadata": {},
     "output_type": "execute_result"
    }
   ],
   "source": [
    "# w_k\n",
    "# no_of_iterations_to_converge\n",
    "w_k"
   ]
  },
  {
   "cell_type": "code",
   "execution_count": 51,
   "metadata": {},
   "outputs": [
    {
     "data": {
      "text/plain": [
       "array([0.66700011, 1.66700011, 1.66700011, 2.66700011])"
      ]
     },
     "execution_count": 51,
     "metadata": {},
     "output_type": "execute_result"
    }
   ],
   "source": [
    "sess.run(X) @ w_k"
   ]
  },
  {
   "cell_type": "code",
   "execution_count": 47,
   "metadata": {},
   "outputs": [
    {
     "data": {
      "text/plain": [
       "array([[0., 0., 1.],\n",
       "       [0., 1., 1.],\n",
       "       [1., 0., 1.],\n",
       "       [1., 1., 1.]], dtype=float32)"
      ]
     },
     "execution_count": 47,
     "metadata": {},
     "output_type": "execute_result"
    }
   ],
   "source": [
    " sess.run(X)"
   ]
  },
  {
   "cell_type": "code",
   "execution_count": null,
   "metadata": {},
   "outputs": [],
   "source": []
  }
 ],
 "metadata": {
  "kernelspec": {
   "display_name": "Python 3",
   "language": "python",
   "name": "python3"
  },
  "language_info": {
   "codemirror_mode": {
    "name": "ipython",
    "version": 3
   },
   "file_extension": ".py",
   "mimetype": "text/x-python",
   "name": "python",
   "nbconvert_exporter": "python",
   "pygments_lexer": "ipython3",
   "version": "3.6.8"
  }
 },
 "nbformat": 4,
 "nbformat_minor": 2
}
