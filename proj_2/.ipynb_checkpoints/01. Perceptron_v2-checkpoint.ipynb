{
 "cells": [
  {
   "cell_type": "code",
   "execution_count": 1,
   "metadata": {},
   "outputs": [],
   "source": [
    "import numpy as np\n",
    "from numpy import zeros, ones, eye\n",
    "import matplotlib.pyplot as plt\n",
    "# import tensorflow as tf"
   ]
  },
  {
   "cell_type": "code",
   "execution_count": 2,
   "metadata": {},
   "outputs": [],
   "source": [
    "X = np.array([[0,0,1],[0,1,1],[1,0,1],[1,1,1]], dtype=np.float32)\n",
    "\n",
    "AND = np.array([[-1],[-1],[-1],[1]], dtype=np.float32) # also tf.float32 implicitly\n",
    "OR = np.array([[-1],[1],[1],[1]], dtype=np.float32) # also tf.float32 implicitly\n",
    "NOR = np.array([[1],[-1],[-1],[-1]], dtype=np.float32) # also tf.float32 implicitly\n",
    "NAND = np.array([[1],[1],[1],[-1]], dtype=np.float32) # also tf.float32 implicitly\n",
    "XOR = np.array([[-1],[1],[1],[-1]], dtype=np.float32) # also tf.float32 implicitly\n",
    "RHO = np.array([[.0001],[.001],[.01],[.01],[.1],[1]])\n",
    "\n",
    "# J = lambda y, w, x: y*x*w\n",
    "# S = lambda x: 1/(1 + np.exp(-x))\n",
    "def cost(y,x,w):\n",
    "    J = y*x*w\n",
    "    print(y*x*w)\n",
    "    return J"
   ]
  },
  {
   "cell_type": "code",
   "execution_count": 43,
   "metadata": {},
   "outputs": [],
   "source": [
    "w_k = np.array([0,0,0])\n",
    "\n",
    "# no_of_iterations_to_converge = []\n",
    "cost = 0\n",
    "for i in range(10_000):\n",
    "    for k in range(len(X)):\n",
    "        X[k,0:2] = X[k,0:2]*AND[k,0]\n",
    "        y_b = X[k,:] @ w_k\n",
    "        y_b = np.round(y_b)\n",
    "        err = AND[k,:] - y_b\n",
    "        \n",
    "        \n",
    "\n",
    "        if X[k,:] @ w_k <= 0:\n",
    "            w_k = w_k + RHO[0]*X[k,:]"
   ]
  },
  {
   "cell_type": "code",
   "execution_count": 47,
   "metadata": {},
   "outputs": [
    {
     "data": {
      "text/plain": [
       "array([0., 0., 0., 0.])"
      ]
     },
     "execution_count": 47,
     "metadata": {},
     "output_type": "execute_result"
    }
   ],
   "source": [
    "np.round(X @ w_k)"
   ]
  },
  {
   "cell_type": "code",
   "execution_count": 45,
   "metadata": {},
   "outputs": [
    {
     "data": {
      "text/plain": [
       "array([1., 1., 1.], dtype=float32)"
      ]
     },
     "execution_count": 45,
     "metadata": {},
     "output_type": "execute_result"
    }
   ],
   "source": [
    "X[k,:]"
   ]
  },
  {
   "cell_type": "code",
   "execution_count": 46,
   "metadata": {},
   "outputs": [
    {
     "data": {
      "text/plain": [
       "array([0.    , 0.    , 0.0001])"
      ]
     },
     "execution_count": 46,
     "metadata": {},
     "output_type": "execute_result"
    }
   ],
   "source": [
    "w_k"
   ]
  },
  {
   "cell_type": "code",
   "execution_count": 41,
   "metadata": {},
   "outputs": [
    {
     "data": {
      "text/plain": [
       "array([-0., -0.], dtype=float32)"
      ]
     },
     "execution_count": 41,
     "metadata": {},
     "output_type": "execute_result"
    }
   ],
   "source": [
    "X[0,0:2]*AND[k,0]"
   ]
  },
  {
   "cell_type": "code",
   "execution_count": null,
   "metadata": {},
   "outputs": [],
   "source": []
  }
 ],
 "metadata": {
  "kernelspec": {
   "display_name": "Python 3",
   "language": "python",
   "name": "python3"
  },
  "language_info": {
   "codemirror_mode": {
    "name": "ipython",
    "version": 3
   },
   "file_extension": ".py",
   "mimetype": "text/x-python",
   "name": "python",
   "nbconvert_exporter": "python",
   "pygments_lexer": "ipython3",
   "version": "3.6.8"
  }
 },
 "nbformat": 4,
 "nbformat_minor": 2
}
