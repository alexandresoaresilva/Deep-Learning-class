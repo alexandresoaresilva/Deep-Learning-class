{
 "cells": [
  {
   "cell_type": "code",
   "execution_count": 1,
   "metadata": {},
   "outputs": [],
   "source": [
    "import numpy as np\n",
    "# from scipy.special import softmax\n",
    "# from numpy import zeros, ones, eye\n",
    "import matplotlib.pyplot as plt\n",
    "# import tensorflow as tf"
   ]
  },
  {
   "cell_type": "code",
   "execution_count": 2,
   "metadata": {},
   "outputs": [],
   "source": [
    "X = np.array([[0,0],\\\n",
    "              [0,1],\\\n",
    "              [1,0],\\\n",
    "              [1,1]], dtype=np.float32)#1 appended in the last column is the bias\n",
    "\n",
    "t = { #dictionary for getting both the target logic values and the correlated string \n",
    "    # binary labels to represent the probabilities of 1 or 0 (first column is 0, 2nd 1)\n",
    "    \"AND\": np.array([[1, 0], [1, 0], [1, 0], [0, 1]], dtype=np.float32),\n",
    "    \"NAND\": np.array([[0, 1], [0, 1], [0, 1], [1, 0]], dtype=np.float32),\n",
    "    \"OR\": np.array([[1, 0], [0, 1], [0, 1], [0, 1]], dtype=np.float32),\n",
    "    \"NOR\": np.array([[0, 1], [1, 0], [1, 0], [1, 0]], dtype=np.float32),\n",
    "    \"XOR\": np.array([[1, 0], [0, 1], [0, 1], [1, 0]], dtype=np.float32) \n",
    "}\n",
    "\n",
    "#learning reates\n",
    "RHO = np.array([.0001,.001,.01,.01,.1,1], dtype=np.float32)"
   ]
  },
  {
   "cell_type": "code",
   "execution_count": 59,
   "metadata": {},
   "outputs": [],
   "source": [
    "def forward_prop_A(W1, b1, W2, b2, X):\n",
    "    A1 = (X @ W1 + b1)[0]\n",
    "    Z1 = logistic_sigmoid(A1) \n",
    "    A2 = (Z1 @ W2 + b2)[0]\n",
    "    Y = softmax(A2)\n",
    "    return A1, A2, Y\n",
    "\n",
    "\n",
    "def logistic_sigmoid(x, derivative=0):\n",
    "    sigm = 1/(1 + np.exp(-x))\n",
    "    if derivative:\n",
    "        return sigm * (1. - sigm)\n",
    "    return sigm\n",
    "\n",
    "def softmax(X, derivative=0):\n",
    "#     for i in range(len(X[:,1])):\n",
    "#         S[:,i] = np.exp(X) / np.sum(np.exp(X))\n",
    "    for i in range(len(X[:,1])):\n",
    "        S[i,:] = np.exp(X[i,:]) / np.sum(np.exp(X[:,i]))\n",
    "        \n",
    "    ans = np.zeros(X.shape)\n",
    "    if derivative:\n",
    "        ans[0] = -S[0]*S[1]\n",
    "        \n",
    "        for i in range()\n",
    "        ans[1] = S[0]*(1 - S[1])\n",
    "        return ans\n",
    "    return S\n",
    "\n",
    "def backprop_A(W2, A1, A2, X, Y, t):\n",
    "    grad_mid_layer = (t-Y) @ -softmax(A2, derivative=1).T * logistic_sigmoid(A1, derivative=1) @ W2 @ X.T\n",
    "    grad_output = (t-Y) @ -softmax(A2, derivative=1).T * logistic_sigmoid(A1, derivative=0) \n",
    "    \n",
    "    grad_output = grad_output @ np.eye(grad_output.shape[0],M=2)\n",
    "    return grad_mid_layer, grad_output\n",
    "\n",
    "def forward_prop_A2(W1, b1, W2, b2, X):\n",
    "    A1 = (X @ W1 + b1)[0]\n",
    "#     Z1 = sigmoid(A1) \n",
    "    A2 = (A1 @ W2 + b2)[0]\n",
    "    Y = softmax(A2)\n",
    "    return A1, A2, Y\n",
    "\n",
    "def backprop_A2(W2, A1, A2, X, Y, t):\n",
    "    grad_mid_layer = (t-Y) @ -softmax(A2, derivative=1).T \n",
    "    grad_mid_layer = grad_mid_layer @ X.T\n",
    "    grad_mid_layer = grad_mid_layer @ np.eye(A1.shape[0]) @ W2\n",
    "    \n",
    "    grad_output = (t-Y) @ -softmax(A2, derivative=1).T\n",
    "    grad_output = grad_output @ A1\n",
    "    grad_output = grad_output @ np.eye(grad_output.shape[0],M=2)\n",
    "    \n",
    "    \n",
    "    return grad_mid_layer, grad_output"
   ]
  },
  {
   "cell_type": "code",
   "execution_count": 60,
   "metadata": {},
   "outputs": [],
   "source": [
    "NO_UNITS_L1 = 2\n",
    "W1 = np.random.randn(2,NO_UNITS_L1)\n",
    "b1 = np.zeros((1,NO_UNITS_L1))\n",
    "W2 = np.random.randn(NO_UNITS_L1,2) # 2 outputs, P(0) and P(1)\n",
    "b2 = np.zeros((1,2))"
   ]
  },
  {
   "cell_type": "code",
   "execution_count": 61,
   "metadata": {},
   "outputs": [
    {
     "ename": "IndexError",
     "evalue": "too many indices for array",
     "output_type": "error",
     "traceback": [
      "\u001b[1;31m---------------------------------------------------------------------------\u001b[0m",
      "\u001b[1;31mIndexError\u001b[0m                                Traceback (most recent call last)",
      "\u001b[1;32m<ipython-input-61-aca3cdf878c4>\u001b[0m in \u001b[0;36m<module>\u001b[1;34m\u001b[0m\n\u001b[0;32m      4\u001b[0m \u001b[1;32mif\u001b[0m \u001b[0mbatch\u001b[0m\u001b[1;33m:\u001b[0m\u001b[1;33m\u001b[0m\u001b[1;33m\u001b[0m\u001b[0m\n\u001b[0;32m      5\u001b[0m     \u001b[1;32mfor\u001b[0m \u001b[0mi\u001b[0m \u001b[1;32min\u001b[0m \u001b[0mrange\u001b[0m\u001b[1;33m(\u001b[0m\u001b[1;36m30_000\u001b[0m\u001b[1;33m)\u001b[0m\u001b[1;33m:\u001b[0m\u001b[1;33m\u001b[0m\u001b[1;33m\u001b[0m\u001b[0m\n\u001b[1;32m----> 6\u001b[1;33m             \u001b[0mA1\u001b[0m\u001b[1;33m,\u001b[0m \u001b[0mA2\u001b[0m\u001b[1;33m,\u001b[0m \u001b[0mY\u001b[0m \u001b[1;33m=\u001b[0m \u001b[0mforward_prop_A2\u001b[0m\u001b[1;33m(\u001b[0m\u001b[0mW1\u001b[0m\u001b[1;33m,\u001b[0m \u001b[0mb1\u001b[0m\u001b[1;33m,\u001b[0m \u001b[0mW2\u001b[0m\u001b[1;33m,\u001b[0m \u001b[0mb2\u001b[0m\u001b[1;33m,\u001b[0m \u001b[0mX\u001b[0m\u001b[1;33m)\u001b[0m\u001b[1;33m\u001b[0m\u001b[1;33m\u001b[0m\u001b[0m\n\u001b[0m\u001b[0;32m      7\u001b[0m             \u001b[0mgrad_mid_layer\u001b[0m\u001b[1;33m,\u001b[0m \u001b[0mgrad_output\u001b[0m \u001b[1;33m=\u001b[0m \u001b[0mbackprop_A2\u001b[0m\u001b[1;33m(\u001b[0m\u001b[0mW2\u001b[0m\u001b[1;33m,\u001b[0m \u001b[0mA1\u001b[0m\u001b[1;33m,\u001b[0m \u001b[0mA2\u001b[0m\u001b[1;33m,\u001b[0m \u001b[0mX\u001b[0m\u001b[1;33m,\u001b[0m \u001b[0mY\u001b[0m\u001b[1;33m,\u001b[0m \u001b[0mt\u001b[0m\u001b[1;33m[\u001b[0m\u001b[1;34m\"AND\"\u001b[0m\u001b[1;33m]\u001b[0m\u001b[1;33m)\u001b[0m\u001b[1;33m\u001b[0m\u001b[1;33m\u001b[0m\u001b[0m\n\u001b[0;32m      8\u001b[0m \u001b[1;33m\u001b[0m\u001b[0m\n",
      "\u001b[1;32m<ipython-input-59-7e6227409d02>\u001b[0m in \u001b[0;36mforward_prop_A2\u001b[1;34m(W1, b1, W2, b2, X)\u001b[0m\n\u001b[0;32m     39\u001b[0m \u001b[1;31m#     Z1 = sigmoid(A1)\u001b[0m\u001b[1;33m\u001b[0m\u001b[1;33m\u001b[0m\u001b[1;33m\u001b[0m\u001b[0m\n\u001b[0;32m     40\u001b[0m     \u001b[0mA2\u001b[0m \u001b[1;33m=\u001b[0m \u001b[1;33m(\u001b[0m\u001b[0mA1\u001b[0m \u001b[1;33m@\u001b[0m \u001b[0mW2\u001b[0m \u001b[1;33m+\u001b[0m \u001b[0mb2\u001b[0m\u001b[1;33m)\u001b[0m\u001b[1;33m[\u001b[0m\u001b[1;36m0\u001b[0m\u001b[1;33m]\u001b[0m\u001b[1;33m\u001b[0m\u001b[1;33m\u001b[0m\u001b[0m\n\u001b[1;32m---> 41\u001b[1;33m     \u001b[0mY\u001b[0m \u001b[1;33m=\u001b[0m \u001b[0msoftmax\u001b[0m\u001b[1;33m(\u001b[0m\u001b[0mA2\u001b[0m\u001b[1;33m)\u001b[0m\u001b[1;33m\u001b[0m\u001b[1;33m\u001b[0m\u001b[0m\n\u001b[0m\u001b[0;32m     42\u001b[0m     \u001b[1;32mreturn\u001b[0m \u001b[0mA1\u001b[0m\u001b[1;33m,\u001b[0m \u001b[0mA2\u001b[0m\u001b[1;33m,\u001b[0m \u001b[0mY\u001b[0m\u001b[1;33m\u001b[0m\u001b[1;33m\u001b[0m\u001b[0m\n\u001b[0;32m     43\u001b[0m \u001b[1;33m\u001b[0m\u001b[0m\n",
      "\u001b[1;32m<ipython-input-59-7e6227409d02>\u001b[0m in \u001b[0;36msoftmax\u001b[1;34m(X, derivative)\u001b[0m\n\u001b[0;32m     16\u001b[0m \u001b[1;31m#     for i in range(len(X[:,1])):\u001b[0m\u001b[1;33m\u001b[0m\u001b[1;33m\u001b[0m\u001b[1;33m\u001b[0m\u001b[0m\n\u001b[0;32m     17\u001b[0m \u001b[1;31m#         S[:,i] = np.exp(X) / np.sum(np.exp(X))\u001b[0m\u001b[1;33m\u001b[0m\u001b[1;33m\u001b[0m\u001b[1;33m\u001b[0m\u001b[0m\n\u001b[1;32m---> 18\u001b[1;33m     \u001b[1;32mfor\u001b[0m \u001b[0mi\u001b[0m \u001b[1;32min\u001b[0m \u001b[0mrange\u001b[0m\u001b[1;33m(\u001b[0m\u001b[0mlen\u001b[0m\u001b[1;33m(\u001b[0m\u001b[0mX\u001b[0m\u001b[1;33m[\u001b[0m\u001b[1;33m:\u001b[0m\u001b[1;33m,\u001b[0m\u001b[1;36m1\u001b[0m\u001b[1;33m]\u001b[0m\u001b[1;33m)\u001b[0m\u001b[1;33m)\u001b[0m\u001b[1;33m:\u001b[0m\u001b[1;33m\u001b[0m\u001b[1;33m\u001b[0m\u001b[0m\n\u001b[0m\u001b[0;32m     19\u001b[0m         \u001b[0mS\u001b[0m\u001b[1;33m[\u001b[0m\u001b[0mi\u001b[0m\u001b[1;33m,\u001b[0m\u001b[1;33m:\u001b[0m\u001b[1;33m]\u001b[0m \u001b[1;33m=\u001b[0m \u001b[0mnp\u001b[0m\u001b[1;33m.\u001b[0m\u001b[0mexp\u001b[0m\u001b[1;33m(\u001b[0m\u001b[0mX\u001b[0m\u001b[1;33m[\u001b[0m\u001b[0mi\u001b[0m\u001b[1;33m,\u001b[0m\u001b[1;33m:\u001b[0m\u001b[1;33m]\u001b[0m\u001b[1;33m)\u001b[0m \u001b[1;33m/\u001b[0m \u001b[0mnp\u001b[0m\u001b[1;33m.\u001b[0m\u001b[0msum\u001b[0m\u001b[1;33m(\u001b[0m\u001b[0mnp\u001b[0m\u001b[1;33m.\u001b[0m\u001b[0mexp\u001b[0m\u001b[1;33m(\u001b[0m\u001b[0mX\u001b[0m\u001b[1;33m[\u001b[0m\u001b[1;33m:\u001b[0m\u001b[1;33m,\u001b[0m\u001b[0mi\u001b[0m\u001b[1;33m]\u001b[0m\u001b[1;33m)\u001b[0m\u001b[1;33m)\u001b[0m\u001b[1;33m\u001b[0m\u001b[1;33m\u001b[0m\u001b[0m\n\u001b[0;32m     20\u001b[0m \u001b[1;33m\u001b[0m\u001b[0m\n",
      "\u001b[1;31mIndexError\u001b[0m: too many indices for array"
     ]
    }
   ],
   "source": [
    "rho = .01\n",
    "batch = 1\n",
    "\n",
    "if batch:\n",
    "    for i in range(30_000):\n",
    "            A1, A2, Y = forward_prop_A2(W1, b1, W2, b2, X)\n",
    "            grad_mid_layer, grad_output = backprop_A2(W2, A1, A2, X, Y, t[\"AND\"])\n",
    "\n",
    "            W1 = W1 - rho*grad_mid_layer\n",
    "            W2 = W2 - rho*grad_output.T\n",
    "            b1 = b1 - rho*np.mean(grad_mid_layer)\n",
    "            b2 = b2 - rho*np.mean(grad_output)\n",
    "else:\n",
    "    for i in range(10_000):\n",
    "        for j in range(len(X[:,1])):\n",
    "            A1, A2, Y = forward_prop_A2(W1, b1, W2, b2, X[j,:])\n",
    "            grad_mid_layer, grad_output = backprop_A2(W2, A1, A2, X[j,:], Y, t[\"AND\"][j,:])\n",
    "\n",
    "            W1 = W1 - rho*grad_mid_layer\n",
    "            W2 = W2 - rho*grad_output.T\n",
    "            b1 = b1 - rho*np.mean(grad_mid_layer)\n",
    "            b2 = b2 - rho*np.mean(grad_output)"
   ]
  },
  {
   "cell_type": "code",
   "execution_count": 16,
   "metadata": {},
   "outputs": [
    {
     "name": "stdout",
     "output_type": "stream",
     "text": [
      "t: [0. 1.]\n",
      "Y: [0.51623245 0.48376755]\n"
     ]
    }
   ],
   "source": [
    "test = 3\n",
    "A1, A2, Y = forward_prop_A(W1, b1, W2, b2, X[test,:])\n",
    "# print(\"X: \" + str(X[test,:]))\n",
    "print(\"t: \" + str(t[\"AND\"][test,:]))\n",
    "print(\"Y: \" + str(Y))"
   ]
  },
  {
   "cell_type": "code",
   "execution_count": 26,
   "metadata": {},
   "outputs": [
    {
     "data": {
      "text/plain": [
       "array([[1., 0.],\n",
       "       [0., 1.]])"
      ]
     },
     "execution_count": 26,
     "metadata": {},
     "output_type": "execute_result"
    }
   ],
   "source": [
    "np.eye(A1.shape[0])"
   ]
  },
  {
   "cell_type": "code",
   "execution_count": 27,
   "metadata": {},
   "outputs": [
    {
     "data": {
      "text/plain": [
       "-0.25"
      ]
     },
     "execution_count": 27,
     "metadata": {},
     "output_type": "execute_result"
    }
   ],
   "source": [
    "(t[\"AND\"][test,:]-Y) @ -softmax(A2, derivative=1).T# * np.eye(A1.shape[0]) @ W2 @ X[test,:].T"
   ]
  },
  {
   "cell_type": "code",
   "execution_count": 34,
   "metadata": {},
   "outputs": [
    {
     "data": {
      "text/plain": [
       "array([[ 0.        ,  0.99643249, -1.00417655, -0.00774406],\n",
       "       [ 0.        , -0.43952952,  0.11198779, -0.32754172]])"
      ]
     },
     "execution_count": 34,
     "metadata": {},
     "output_type": "execute_result"
    }
   ],
   "source": [
    "W2 @ X.T"
   ]
  },
  {
   "cell_type": "code",
   "execution_count": 39,
   "metadata": {},
   "outputs": [
    {
     "data": {
      "text/plain": [
       "array([[1., 0.],\n",
       "       [0., 1.]])"
      ]
     },
     "execution_count": 39,
     "metadata": {},
     "output_type": "execute_result"
    }
   ],
   "source": [
    "np.eye(A1.shape[0])"
   ]
  },
  {
   "cell_type": "code",
   "execution_count": null,
   "metadata": {},
   "outputs": [],
   "source": []
  }
 ],
 "metadata": {
  "kernelspec": {
   "display_name": "Python 3",
   "language": "python",
   "name": "python3"
  },
  "language_info": {
   "codemirror_mode": {
    "name": "ipython",
    "version": 3
   },
   "file_extension": ".py",
   "mimetype": "text/x-python",
   "name": "python",
   "nbconvert_exporter": "python",
   "pygments_lexer": "ipython3",
   "version": "3.6.8"
  }
 },
 "nbformat": 4,
 "nbformat_minor": 2
}
