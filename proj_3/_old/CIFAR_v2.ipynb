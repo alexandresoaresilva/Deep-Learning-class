{
 "cells": [
  {
   "cell_type": "code",
   "execution_count": 1,
   "metadata": {},
   "outputs": [],
   "source": [
    "import numpy as np\n",
    "import os\n",
    "import tensorflow as tf\n",
    "import matplotlib.pyplot as plt\n",
    "import cv2 as cv\n",
    "# import multiprocessing as mp\n",
    "import random"
   ]
  },
  {
   "cell_type": "code",
   "execution_count": 2,
   "metadata": {},
   "outputs": [],
   "source": [
    "def unpickle(file):\n",
    "    import pickle\n",
    "    with open(file, 'br') as fo:\n",
    "        dict = pickle.load(fo, encoding='bytes')\n",
    "    return dict"
   ]
  },
  {
   "cell_type": "markdown",
   "metadata": {},
   "source": [
    "## getting CIFAR-10 dataset\n",
    "\n",
    "    batches is a Python list that holds dictionaries:\n",
    "   \n",
    "        batches[0][b'data] returns 10,000 horizontalized images from batch_1\n",
    "        batches[0][b'data][0] is the 1st image in the dataset"
   ]
  },
  {
   "cell_type": "code",
   "execution_count": 3,
   "metadata": {},
   "outputs": [],
   "source": [
    "path = os.getcwd() + \"\\\\cifar-10-batches-py\\\\\"\n",
    "batches = []\n",
    "\n",
    "for i in range(5): #getting path + name of the folder for the dataset\n",
    "    file = path + \"data_batch_\" + str(i+1)\n",
    "    batches.append(unpickle( file ))"
   ]
  },
  {
   "cell_type": "code",
   "execution_count": 16,
   "metadata": {},
   "outputs": [],
   "source": [
    "#returns a uint8 numpy array with m x n x color(R,G,o B)\n",
    "def from_array_to_RGB(I_lin, channel_dim=1024):\n",
    "    L = channel_dim\n",
    "    side = int(np.sqrt(L)) #square image\n",
    "    \n",
    "    I = np.zeros((side,side,3), dtype=np.uint8)\n",
    "    #==== color channels\n",
    "    #R\n",
    "    I[:,:,0] = I_lin[0:L].reshape((side,side)) \n",
    "    #G\n",
    "    I[:,:,1] = I_lin[L:2*L].reshape((side,side))\n",
    "    #B\n",
    "    I[:,:,2] = I_lin[2*L:3*L].reshape((side,side))\n",
    "    return I"
   ]
  },
  {
   "cell_type": "code",
   "execution_count": 24,
   "metadata": {},
   "outputs": [
    {
     "data": {
      "text/plain": [
       "<matplotlib.image.AxesImage at 0x143f2d82898>"
      ]
     },
     "execution_count": 24,
     "metadata": {},
     "output_type": "execute_result"
    },
    {
     "data": {
      "image/png": "[encoded data removed]",
      "text/plain": [
       "<Figure size 432x288 with 1 Axes>"
      ]
     },
     "metadata": {
      "needs_background": "light"
     },
     "output_type": "display_data"
    }
   ],
   "source": [
    "selection = random.sample(range(batches[0][b'data'].shape[0]), 1)\n",
    "\n",
    "I_lin = batches[0][b'data'][selection[0]][:]\n",
    "plt.imshow(from_array_to_RGB(I_lin))"
   ]
  },
  {
   "cell_type": "code",
   "execution_count": null,
   "metadata": {},
   "outputs": [],
   "source": []
  },
  {
   "cell_type": "code",
   "execution_count": null,
   "metadata": {},
   "outputs": [],
   "source": []
  }
 ],
 "metadata": {
  "kernelspec": {
   "display_name": "Python 3",
   "language": "python",
   "name": "python3"
  },
  "language_info": {
   "codemirror_mode": {
    "name": "ipython",
    "version": 3
   },
   "file_extension": ".py",
   "mimetype": "text/x-python",
   "name": "python",
   "nbconvert_exporter": "python",
   "pygments_lexer": "ipython3",
   "version": "3.6.8"
  }
 },
 "nbformat": 4,
 "nbformat_minor": 2
}
